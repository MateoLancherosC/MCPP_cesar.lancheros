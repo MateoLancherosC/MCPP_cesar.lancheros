{
 "cells": [
  {
   "cell_type": "markdown",
   "metadata": {},
   "source": [
    "# Análisis de texto cuantitativo de los Planes Nacionales de Desarrollo en Colombia"
   ]
  },
  {
   "cell_type": "markdown",
   "metadata": {},
   "source": [
    "## Para los periodos presidenciales de Juan Manuel Santos Calderón I (2010-2014), Juan Manuel Santos Calderón II (2014-2018) e Iván Duque Marquez (2018-2022)."
   ]
  },
  {
   "cell_type": "markdown",
   "metadata": {},
   "source": [
    "### Descripción y motivación"
   ]
  },
  {
   "cell_type": "markdown",
   "metadata": {},
   "source": [
    "El Plan Nacional de Desarrollo (PND) es la base de las políticas gubernamentales de la nación; es decir, es el instrumento formal y legal por medio del cual se trazan los objetivos del Gobierno, permitiendo la subsecuente evaluación de su gestión. De acuerdo con la Constitución Política de Colombia de 1991, el Artículo 339 decreta:\n",
    "\n",
    "               “Habrá un Plan Nacional de Desarrollo conformado por una parte general y un plan de inversiones de las entidades públicas del orden nacional. En la parte general se señalarán los propósitos y objetivos nacionales de largo plazo, las metas y prioridades de la acción estatal a mediano plazo y las estrategias y orientaciones generales de la política económica, social y ambiental que serán adoptadas por el Gobierno. El plan de inversiones públicas contendrá los presupuestos plurianuales de los principales programas y proyectos de inversión pública nacional y la especificación de los recursos financieros requeridos para su ejecución, dentro de un marco que garantice la sostenibilidad fiscal. \n",
    "\n",
    "                Las entidades territoriales elaborarán y adoptarán de manera concertada entre ellas y el gobierno nacional, planes de desarrollo, con el objeto de asegurar el uso eficiente de sus recursos y el desempeño adecuado de las funciones que les hayan sido asignadas por la Constitución y la ley. Los planes de las entidades territoriales estarán conformados por una parte estratégica y un plan de inversiones de mediano y corto plazo.“\n",
    "\n",
    "De esta forma, es a través del PND que el presidente de la República liga sus propuesta y su gestión en el cuatreño. De allí la intensión de análizar los PND del periodo 2010-2022, que consta de tres gobiernos presidenciales, los cuales son significativamente diferentes pero altamente coyunturales. El primero a cargo de Juan Manuel Santos Calderón (2010-2014), con un política consecutiva al gobierno anterior; el segundo igualmente de Juan Manuel Santos (2014-2018), pero con otras intenciones e incentivos políticos y finalmente, el de Iván Duque Marques (2018-2022), quien representa un partido de oposición del gobierno pasado. Este último PDN fue aprobado el 04 de mayo de 2019 por el legislativo y actualmente se encuentra a espera de sanción presidencial. \n",
    "\n",
    "La motivación de este proyecto de investigación es análizar los temas priorizados en la agenda de política pública del país y así interpretar si existen o no alguna articulación y/o coindencia entre las políticas públicas llevadas a cabo a lo largo de 12 años de gobierno. Este lapso de tiempo es percibido en políticas públicas como mediano plazo y rige muchas de las planeaciones oficiales, por ello su relevancia para el contexto actual de la nación. "
   ]
  },
  {
   "cell_type": "markdown",
   "metadata": {},
   "source": [
    "### Metodología"
   ]
  },
  {
   "cell_type": "markdown",
   "metadata": {},
   "source": [
    "El presente proyecto presenta una metodología de ANÁLISIS DE TEXTO CUANTITATIVO, el cual trata una dimensión informativa de este forma de análisis donde se desarrolla una labor analítica ambigua que fractura y descompone el texto para luego suturarlo y recomponerlo hacia una nueva interpretación. Esto permite llevar a cabo un análisis descriptivo preliminar con el fin de generar supuestos estructurados a partir de un material cualitativo de tipo discursivo donde la palabra es la unidad básica de análisis, independiente de su significado."
   ]
  },
  {
   "cell_type": "markdown",
   "metadata": {},
   "source": [
    "### Instrucciones"
   ]
  },
  {
   "cell_type": "markdown",
   "metadata": {},
   "source": [
    "El proyecto final costa de dos carpetas, la primera denominada CÓDIGO la cual posee todo el lenguaje de programación utilizado en PYTHON para llevar a cabo el análisis de texto pertinente. Por otra parte, la caperta IMAGENES presenta las gráficas extraidas del análisis y almacenadas en formato .png. \n",
    "\n",
    "#### Lectura de los Planes Nacionales de Desarrollo\n",
    "\n",
    "Comienza el proceso con la lectura de cada uno de los PND, que se encuentran en formato de documento de WORD, los cuales fueron previamente convertidos de PDF a WORD.\n",
    "\n",
    "#### Compilar los Planes Nacionales de Desarrollo\n",
    "\n",
    "Los PND de autoria del gobierno del presidente Juan Manuel Santo (2010-2014 y 2014-2018) se encuentras estructurados a través de dos tomos cada uno, debido a su extensión. Por esta razón, después de se leidos los PND fue necesario su compilación para que se diera posteriormente un análisis unificado de los documentos. \n",
    "\n",
    "#### Limpieza de los textos\n",
    "\n",
    "Para un correcto análisis de cada uno de los PND fue necesario la limpieza de caracteres innecesario e inutiles para el análisis, como a la vez se extrayeron las palabras que no representaban ninguna significancia para los interéses del proyecto.\n",
    "\n",
    "Estos pasos previamente anunciados fueron recopilados en formato .ipynb denominado Cleaning Data Planes Nacionales de Desarrollo.ipynb.\n",
    "\n",
    "#### Análisis de texto cuantitativo\n",
    "\n",
    "Posteriormetne de tener cada uno de los PND limpios y con las unidades de análisis relevantes para el proyecto, se llevó a cabo un ejercicio de visualización de los resultados por medio de tres herramientas estadisticas de análisis. \n",
    "   \n",
    "  ##### (I) Distribución de Frecuencia \n",
    "  ##### (II) Nube de palabras \n",
    "  ##### (III) Gráficos de dispersión\n",
    "\n",
    "Este procedimiento se encuentra almacenado y dcoumentado en un formato .ipynb denominado Análisis Planes Nacionales de Desarrollo.ipynb."
   ]
  },
  {
   "cell_type": "markdown",
   "metadata": {},
   "source": [
    "### Requerimientos"
   ]
  },
  {
   "cell_type": "markdown",
   "metadata": {},
   "source": [
    "Para llevar a cabo la ejecución de los códigos a la perfección se requiere la instalación de una serie de programas, librerias y algunas clases. Mencionadas a continuación:\n",
    "\n",
    "    Python 3\n",
    "    Numpy\n",
    "    Matplotlib\n",
    "    Unideco\n",
    "    Re\n",
    "    NLTK\n",
    "    Pickle\n",
    "    WordCloud\n",
    "    OS\n",
    "    String   "
   ]
  },
  {
   "cell_type": "markdown",
   "metadata": {},
   "source": [
    "### Resultados"
   ]
  },
  {
   "cell_type": "markdown",
   "metadata": {},
   "source": []
  },
  {
   "cell_type": "code",
   "execution_count": null,
   "metadata": {},
   "outputs": [],
   "source": []
  }
 ],
 "metadata": {
  "kernelspec": {
   "display_name": "Python 3",
   "language": "python",
   "name": "python3"
  },
  "language_info": {
   "codemirror_mode": {
    "name": "ipython",
    "version": 3
   },
   "file_extension": ".py",
   "mimetype": "text/x-python",
   "name": "python",
   "nbconvert_exporter": "python",
   "pygments_lexer": "ipython3",
   "version": "3.7.1"
  }
 },
 "nbformat": 4,
 "nbformat_minor": 2
}
