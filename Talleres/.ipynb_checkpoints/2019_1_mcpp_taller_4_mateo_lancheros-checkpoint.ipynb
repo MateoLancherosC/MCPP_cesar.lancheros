{
 "cells": [
  {
   "cell_type": "markdown",
   "metadata": {},
   "source": [
    "# Taller 4\n",
    "Métodos Computacionales para Políticas Públicas - URosario\n",
    "\n",
    "**Entrega: viernes 1-mar-2019 11:59 PM**"
   ]
  },
  {
   "cell_type": "markdown",
   "metadata": {},
   "source": [
    "<div class=\"alert alert-success\">\n",
    "César Mateo Lancheros Cañón <br><br>\n",
    "cesar.lancheros@urosario.edu.co\n",
    "</div>"
   ]
  },
  {
   "cell_type": "markdown",
   "metadata": {},
   "source": [
    "## Instrucciones:\n",
    "- Guarde una copia de este *Jupyter Notebook* en su computador, idealmente en una carpeta destinada al material del curso.\n",
    "- Modifique el nombre del archivo del *notebook*, agregando al final un guión inferior y su nombre y apellido, separados estos últimos por otro guión inferior. Por ejemplo, mi *notebook* se llamaría: mcpp_taller4_santiago_matallana\n",
    "- Marque el *notebook* con su nombre y e-mail en el bloque verde arriba. Reemplace el texto \"[Su nombre acá]\" con su nombre y apellido. Similar para su e-mail.\n",
    "- Desarrolle la totalidad del taller sobre este *notebook*, insertando las celdas que sea necesario debajo de cada pregunta. Haga buen uso de las celdas para código y de las celdas tipo *markdown* según el caso.\n",
    "- Recuerde salvar periódicamente sus avances.\n",
    "- Cuando termine el taller:\n",
    "    1. Descárguelo en PDF.\n",
    "    2. Suba los dos archivos (.pdf y .ipynb) a su repositorio en GitHub antes de la fecha y hora límites.\n",
    "\n",
    "(Todos los ejercicios tienen el mismo valor.)"
   ]
  },
  {
   "cell_type": "markdown",
   "metadata": {},
   "source": [
    "---"
   ]
  },
  {
   "cell_type": "markdown",
   "metadata": {},
   "source": [
    "## Zelle, Exercises 6.8 (p. 159):\n",
    "\n",
    "- True/False: 1-10\n",
    "- Multiple choice: 2, 3, 6, 7, 10\n",
    "- Programming Exercises: 1, 3, 4, 11, 12, 13"
   ]
  },
  {
   "cell_type": "markdown",
   "metadata": {},
   "source": [
    "## 6.8 Exercises "
   ]
  },
  {
   "cell_type": "markdown",
   "metadata": {},
   "source": [
    "### True/False"
   ]
  },
  {
   "cell_type": "markdown",
   "metadata": {},
   "source": [
    "1. False\n",
    "2. False\n",
    "3. True\n",
    "4. True\n",
    "5. False\n",
    "6. False\n",
    "7. False\n",
    "8. True\n",
    "9. True\n",
    "10. False"
   ]
  },
  {
   "cell_type": "markdown",
   "metadata": {},
   "source": [
    "### Multiple Choice"
   ]
  },
  {
   "cell_type": "markdown",
   "metadata": {},
   "source": [
    "2. A\n",
    "3. A\n",
    "6. A\n",
    "7. D\n",
    "10. A "
   ]
  },
  {
   "cell_type": "markdown",
   "metadata": {},
   "source": [
    "### Programming Exercises "
   ]
  },
  {
   "cell_type": "markdown",
   "metadata": {},
   "source": [
    "1. Write a program to print the lyrics of the song “Old MacDonald.” Your program should print the lyrics for five different animals, similar to the example verse below."
   ]
  },
  {
   "cell_type": "code",
   "execution_count": 1,
   "metadata": {},
   "outputs": [],
   "source": [
    "def cancion(animal, sonido):\n",
    "    print(\"Old MacDonald had a farm, Ee-igh, Ee-igh, Oh!\")\n",
    "    print(\"And on that farm he had a\", animal + \", Ee-igh, Ee-igh, Oh!\")\n",
    "    print(\"With a\", sonido + \",\",sonido + \" here and a\", sonido + \",\",sonido + \" there.\")\n",
    "    print(\"Here a\", sonido +\", there a\", sonido + \", everywhere a\", sonido + \",\", sonido + \".\")\n",
    "    print(\"Old MacDonald had a farm, Ee-igh, Ee-igh, Oh!\")"
   ]
  },
  {
   "cell_type": "code",
   "execution_count": 2,
   "metadata": {},
   "outputs": [
    {
     "name": "stdout",
     "output_type": "stream",
     "text": [
      "Old MacDonald had a farm, Ee-igh, Ee-igh, Oh!\n",
      "And on that farm he had a cow, Ee-igh, Ee-igh, Oh!\n",
      "With a moo, moo here and a moo, moo there.\n",
      "Here a moo, there a moo, everywhere a moo, moo.\n",
      "Old MacDonald had a farm, Ee-igh, Ee-igh, Oh!\n",
      "Old MacDonald had a farm, Ee-igh, Ee-igh, Oh!\n",
      "And on that farm he had a pig, Ee-igh, Ee-igh, Oh!\n",
      "With a oink, oink here and a oink, oink there.\n",
      "Here a oink, there a oink, everywhere a oink, oink.\n",
      "Old MacDonald had a farm, Ee-igh, Ee-igh, Oh!\n",
      "Old MacDonald had a farm, Ee-igh, Ee-igh, Oh!\n",
      "And on that farm he had a duck, Ee-igh, Ee-igh, Oh!\n",
      "With a quak, quak here and a quak, quak there.\n",
      "Here a quak, there a quak, everywhere a quak, quak.\n",
      "Old MacDonald had a farm, Ee-igh, Ee-igh, Oh!\n",
      "Old MacDonald had a farm, Ee-igh, Ee-igh, Oh!\n",
      "And on that farm he had a dog, Ee-igh, Ee-igh, Oh!\n",
      "With a wouw, wouw here and a wouw, wouw there.\n",
      "Here a wouw, there a wouw, everywhere a wouw, wouw.\n",
      "Old MacDonald had a farm, Ee-igh, Ee-igh, Oh!\n",
      "Old MacDonald had a farm, Ee-igh, Ee-igh, Oh!\n",
      "And on that farm he had a sheep, Ee-igh, Ee-igh, Oh!\n",
      "With a bah, bah here and a bah, bah there.\n",
      "Here a bah, there a bah, everywhere a bah, bah.\n",
      "Old MacDonald had a farm, Ee-igh, Ee-igh, Oh!\n"
     ]
    }
   ],
   "source": [
    "cancion(\"cow\",\"moo\")\n",
    "cancion(\"pig\", \"oink\")\n",
    "cancion(\"duck\", \"quak\")\n",
    "cancion(\"dog\", \"wouw\")\n",
    "cancion(\"sheep\", \"bah\")"
   ]
  },
  {
   "cell_type": "markdown",
   "metadata": {},
   "source": [
    "3. Write definitions for these functions:\n",
    "\n",
    "   sphereArea(radius) Returns the surface area of a sphere having the given radius.\n",
    "\n",
    "   sphereVolume(radius) Returns the volume of a sphere having the given radius.\n",
    "\n",
    "   Use your functions to solve Programming Exercise 1 from Chapter 3.\n"
   ]
  },
  {
   "cell_type": "code",
   "execution_count": 3,
   "metadata": {},
   "outputs": [],
   "source": [
    "pi = 3.1416\n",
    "\n",
    "def area(r):\n",
    "    a = 4 * pi * (r**2) \n",
    "    print(a)\n",
    "def volumen(r):\n",
    "    v = 3%4 * pi * (r**3) \n",
    "    print(v)"
   ]
  },
  {
   "cell_type": "code",
   "execution_count": 4,
   "metadata": {},
   "outputs": [
    {
     "name": "stdout",
     "output_type": "stream",
     "text": [
      "615.7536\n",
      "308831.8464\n"
     ]
    }
   ],
   "source": [
    "area(7)\n",
    "volumen(32)"
   ]
  },
  {
   "cell_type": "markdown",
   "metadata": {},
   "source": [
    "4. Write definitions for the following two functions:\n",
    "\n",
    "   sumN(n) returns the sum of the first n natural numbers.\n",
    "\n",
    "   sumNCubes(n) returns the sum of the cubes of the first n natural numbers.\n",
    "\n",
    "   Then use these functions in a program that prompts a user for n and prints out the sum of the first n natural numbers and the sum of the cubes of the first n natural numbers."
   ]
  },
  {
   "cell_type": "code",
   "execution_count": 10,
   "metadata": {},
   "outputs": [
    {
     "name": "stdout",
     "output_type": "stream",
     "text": [
      "Imprimir la suma de los n primeros números naturales, y de sus cubos\n",
      "Ingresar un número natural: 5\n",
      "La suma de los 5 primeros números naturales es 15. La suma de los cubos es 225\n"
     ]
    }
   ],
   "source": [
    "def main():\n",
    "    print(\"Imprimir la suma de los n primeros números naturales, y de sus cubos\")\n",
    "    n = int(input(\"Ingresar un número natural: \"))\n",
    "    nSum = sumN(n)\n",
    "    nCubedSum = sumNCubes(n)\n",
    "    print(\"La suma de los {0} primeros números naturales es {1}. La suma de los cubos es {2}\" .format (n, nSum, nCubedSum))\n",
    "\n",
    "def sumN(n): \n",
    "    total = 0\n",
    "    for i in range(n): \n",
    "        total += i + 1\n",
    "    return(total)\n",
    "\n",
    "def sumNCubes(n): \n",
    "    total = 0\n",
    "    for i in range(n):\n",
    "        total += ((i + 1)**3)\n",
    "    return(total) \n",
    "\n",
    "main()"
   ]
  },
  {
   "cell_type": "markdown",
   "metadata": {},
   "source": [
    "11. Write and test a function to meet this specification.\n",
    "\n",
    "    squareEach(nums) nums is a list of numbers. Modifies the list by squaring each entry.\n"
   ]
  },
  {
   "cell_type": "code",
   "execution_count": 11,
   "metadata": {},
   "outputs": [
    {
     "name": "stdout",
     "output_type": "stream",
     "text": [
      "[16, 81, 144, 400, 4761]\n"
     ]
    }
   ],
   "source": [
    "nums = [4, 9, 12, 20, 69]\n",
    "def squareEach(x): \n",
    "    squares = []\n",
    "    squares.extend([i**2 for i in x])\n",
    "    print(squares)\n",
    "    \n",
    "squareEach(nums)"
   ]
  },
  {
   "cell_type": "markdown",
   "metadata": {},
   "source": [
    "12. Write and test a function to meet this specification.\n",
    "\n",
    "    sumList(nums) nums is a list of numbers. Returns the sum of the numbers in the list."
   ]
  },
  {
   "cell_type": "code",
   "execution_count": 15,
   "metadata": {},
   "outputs": [
    {
     "name": "stdout",
     "output_type": "stream",
     "text": [
      "114\n"
     ]
    }
   ],
   "source": [
    "def sumList(x): \n",
    "    resultado = 0\n",
    "    i = 0\n",
    "    while i < len(x):\n",
    "        resultado = resultado + x[i]\n",
    "        i += 1 \n",
    "    print(resultado)\n",
    "    \n",
    "sumList(nums)"
   ]
  },
  {
   "cell_type": "markdown",
   "metadata": {},
   "source": [
    "13. Write and test a function to meet this specification.\n",
    "\n",
    "    toNumbers(strList) strList is a list of strings, each of which represents a number. Modi- fies each entry in the list by converting it to a number."
   ]
  },
  {
   "cell_type": "code",
   "execution_count": 16,
   "metadata": {},
   "outputs": [
    {
     "name": "stdout",
     "output_type": "stream",
     "text": [
      "[9, 17, 12, 3, 8]\n"
     ]
    }
   ],
   "source": [
    "strList = [\"9\", \"17\", \"12\", \"3\", \"8\"]\n",
    "\n",
    "def toNumbers(x): \n",
    "    y = []\n",
    "    y.extend([int(i) for i in x]) \n",
    "    print(y)\n",
    "    \n",
    "toNumbers(strList)"
   ]
  },
  {
   "cell_type": "markdown",
   "metadata": {},
   "source": [
    "---"
   ]
  }
 ],
 "metadata": {
  "anaconda-cloud": {},
  "kernelspec": {
   "display_name": "Python 3",
   "language": "python",
   "name": "python3"
  },
  "language_info": {
   "codemirror_mode": {
    "name": "ipython",
    "version": 3
   },
   "file_extension": ".py",
   "mimetype": "text/x-python",
   "name": "python",
   "nbconvert_exporter": "python",
   "pygments_lexer": "ipython3",
   "version": "3.7.1"
  }
 },
 "nbformat": 4,
 "nbformat_minor": 1
}
