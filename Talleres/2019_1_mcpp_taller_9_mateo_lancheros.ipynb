{
 "cells": [
  {
   "cell_type": "markdown",
   "metadata": {},
   "source": [
    "# Taller 9\n",
    "Métodos Computacionales para Políticas Públicas - URosario\n",
    "\n",
    "**Entrega: viernes 26-abr-2019 11:59 PM**"
   ]
  },
  {
   "cell_type": "markdown",
   "metadata": {},
   "source": [
    "<div class=\"alert alert-success\">\n",
    "César Mateo Lancheros Cañón <br><br>\n",
    "cesar.lancheros@urosario.edu.co\n",
    "</div>"
   ]
  },
  {
   "cell_type": "markdown",
   "metadata": {},
   "source": [
    "## Instrucciones:\n",
    "- Guarde una copia de este *Jupyter Notebook* en su computador, idealmente en una carpeta destinada al material del curso.\n",
    "- Modifique el nombre del archivo del *notebook*, agregando al final un guión inferior y su nombre y apellido, separados estos últimos por otro guión inferior. Por ejemplo, mi *notebook* se llamaría: mcpp_taller9_santiago_matallana\n",
    "- Marque el *notebook* con su nombre y e-mail en el bloque verde arriba. Reemplace el texto \"[Su nombre acá]\" con su nombre y apellido. Similar para su e-mail.\n",
    "- Desarrolle la totalidad del taller sobre este *notebook*, insertando las celdas que sea necesario debajo de cada pregunta. Haga buen uso de las celdas para código y de las celdas tipo *markdown* según el caso.\n",
    "- Recuerde salvar periódicamente sus avances.\n",
    "- Cuando termine el taller:\n",
    "    1. Descárguelo en PDF. Si tiene algún problema con la conversión, descárguelo en HTML.\n",
    "    2. Suba todos los archivos a su repositorio en GitHub, en una carpeta destinada exclusivamente para este taller, antes de la fecha y hora límites."
   ]
  },
  {
   "cell_type": "markdown",
   "metadata": {},
   "source": [
    "---"
   ]
  },
  {
   "cell_type": "markdown",
   "metadata": {},
   "source": [
    "# Natural Language Processing with Python"
   ]
  },
  {
   "cell_type": "markdown",
   "metadata": {},
   "source": [
    "## Analyzing Text with the Natural Language Toolkit"
   ]
  },
  {
   "cell_type": "markdown",
   "metadata": {},
   "source": [
    "NLTK Book (http://www.nltk.org/book/), Exercises:\n",
    "- Chapter 1: 22, 26, 28\n",
    "- Chapter 2: 2, 4, 11"
   ]
  },
  {
   "cell_type": "code",
   "execution_count": 73,
   "metadata": {},
   "outputs": [],
   "source": [
    "%matplotlib inline\n",
    "import matplotlib.pyplot as plt\n",
    "plt.rcParams[\"figure.figsize\"] = [18.0, 8.0]"
   ]
  },
  {
   "cell_type": "code",
   "execution_count": 3,
   "metadata": {},
   "outputs": [],
   "source": [
    "import nltk"
   ]
  },
  {
   "cell_type": "code",
   "execution_count": 4,
   "metadata": {
    "scrolled": true
   },
   "outputs": [
    {
     "name": "stderr",
     "output_type": "stream",
     "text": [
      "[nltk_data] Downloading package state_union to\n",
      "[nltk_data]     /Users/mateolancheros/nltk_data...\n",
      "[nltk_data]   Package state_union is already up-to-date!\n",
      "[nltk_data] Downloading package brown to\n",
      "[nltk_data]     /Users/mateolancheros/nltk_data...\n",
      "[nltk_data]   Package brown is already up-to-date!\n",
      "[nltk_data] Downloading package inaugural to\n",
      "[nltk_data]     /Users/mateolancheros/nltk_data...\n",
      "[nltk_data]   Package inaugural is already up-to-date!\n",
      "[nltk_data] Downloading package nps_chat to\n",
      "[nltk_data]     /Users/mateolancheros/nltk_data...\n",
      "[nltk_data]   Package nps_chat is already up-to-date!\n",
      "[nltk_data] Downloading package webtext to\n",
      "[nltk_data]     /Users/mateolancheros/nltk_data...\n",
      "[nltk_data]   Package webtext is already up-to-date!\n",
      "[nltk_data] Downloading package treebank to\n",
      "[nltk_data]     /Users/mateolancheros/nltk_data...\n",
      "[nltk_data]   Package treebank is already up-to-date!\n"
     ]
    },
    {
     "data": {
      "text/plain": [
       "True"
      ]
     },
     "execution_count": 4,
     "metadata": {},
     "output_type": "execute_result"
    }
   ],
   "source": [
    "nltk.download('state_union') \n",
    "nltk.download('brown') \n",
    "nltk.download('inaugural') \n",
    "nltk.download('nps_chat') \n",
    "nltk.download('webtext') \n",
    "nltk.download('treebank') "
   ]
  },
  {
   "cell_type": "code",
   "execution_count": 5,
   "metadata": {
    "scrolled": false
   },
   "outputs": [
    {
     "name": "stdout",
     "output_type": "stream",
     "text": [
      "showing info https://raw.githubusercontent.com/nltk/nltk_data/gh-pages/index.xml\n"
     ]
    },
    {
     "data": {
      "text/plain": [
       "True"
      ]
     },
     "execution_count": 5,
     "metadata": {},
     "output_type": "execute_result"
    }
   ],
   "source": [
    "nltk.download()"
   ]
  },
  {
   "cell_type": "code",
   "execution_count": 84,
   "metadata": {},
   "outputs": [],
   "source": [
    "from nltk.book import text1 \n",
    "from nltk.book import text4\n",
    "from nltk.book import text5 \n",
    "from nltk import FreqDist"
   ]
  },
  {
   "cell_type": "code",
   "execution_count": 77,
   "metadata": {},
   "outputs": [
    {
     "data": {
      "text/plain": [
       "<Text: Moby Dick by Herman Melville 1851>"
      ]
     },
     "execution_count": 77,
     "metadata": {},
     "output_type": "execute_result"
    }
   ],
   "source": [
    "text1"
   ]
  },
  {
   "cell_type": "code",
   "execution_count": 85,
   "metadata": {},
   "outputs": [
    {
     "data": {
      "text/plain": [
       "<Text: Inaugural Address Corpus>"
      ]
     },
     "execution_count": 85,
     "metadata": {},
     "output_type": "execute_result"
    }
   ],
   "source": [
    "text4"
   ]
  },
  {
   "cell_type": "code",
   "execution_count": 9,
   "metadata": {},
   "outputs": [
    {
     "data": {
      "text/plain": [
       "<Text: Chat Corpus>"
      ]
     },
     "execution_count": 9,
     "metadata": {},
     "output_type": "execute_result"
    }
   ],
   "source": [
    "text5"
   ]
  },
  {
   "cell_type": "markdown",
   "metadata": {},
   "source": [
    "## Chapter 1. Language Processing and Python"
   ]
  },
  {
   "cell_type": "markdown",
   "metadata": {},
   "source": [
    "22.Find all the four-letter words in the Chat Corpus (text5). With the help of a frequency distribution (FreqDist), show these words in decreasing order of frequency."
   ]
  },
  {
   "cell_type": "code",
   "execution_count": 23,
   "metadata": {},
   "outputs": [
    {
     "name": "stdout",
     "output_type": "stream",
     "text": [
      "['AKDT', 'AKST', 'AWAY', 'Ahhh', 'Away', 'Awww', 'Back', 'Been', 'Bone', 'Born', 'Boyz', 'CALI', 'CAPS', 'CHAT', 'COME', 'Came', 'Care', 'Chat', 'Chop', 'City', 'Come', 'Cool', 'Ctrl', 'Cute', 'DAMN', 'DING', 'DOES', 'DONT', 'Damn', 'Dang', 'Dawn', 'Days', 'Deep', 'Does', 'Dood', 'Down', 'Drew', 'Drop', 'Dude', 'ELSE', 'EVEN', 'Eggs', 'Elev', 'Elle', 'Even', 'Evil', 'Eyes', 'FACE', 'FINE', 'FROM', 'Fade', 'Food', 'Fort', 'From', 'GIRL', 'GOOD', 'GUYS', 'Girl', 'Good', 'Gosh', 'GrlZ', 'HAHA', 'HALO', 'HAVE', 'HERE', 'HOTT', 'HUGE', 'Haha', 'Hail', 'Hand', 'Hard', 'Have', 'Help', 'Here', 'Hero', 'Heya', 'Heys', 'Heyy', 'High', 'Hill', 'Hiya', 'Hold', 'Holy', 'Home', 'Hott', 'Hugs', 'Iowa', 'JOIN', 'JUST', 'Jane', 'Jess', 'Joey', 'John', 'Judy', 'Just', 'KNOW', 'Kent', 'Kewl', 'Kick', 'Kids', 'King', 'Kiss', 'KoOL', 'Kold', 'LATE', 'LAst', 'LIVE', 'LMAO', 'LONG', 'LOUD', 'Last', 'Lets', 'Liam', 'Lies', 'Life', 'Like', 'Lime', 'Lion', 'Live', 'Lmao', 'LoVe', 'Long', 'Look', 'Lord', 'Love', 'MODE', 'MORE', 'MRIs', 'MUAH', 'Male', 'Maps', 'Mary', 'Matt', 'Meep', 'Mine', 'Mono', 'NAME', 'NICK', 'NONE', 'NTMN', 'Need', 'News', 'Nice', 'None', 'Nooo', 'Nope', 'Nova', 'OOPS', 'Ohhh', 'Ohio', 'Okay', 'Only', 'Oops', 'Over', 'PART', 'PMSL', 'Paul', 'Phil', 'Poor', 'Pour', 'Prof', 'QUIT', 'ROFL', 'ROOM', 'Rang', 'Reub', 'Rick', 'Road', 'Rock', 'Rofl', 'Room', 'Rule', 'Rush', 'Ruth', 'SEEN', 'SExy', 'SIZE', 'SOME', 'SSRI', 'STOP', 'Same', 'Save', 'Seee', 'Sexy', 'Show', 'Slip', 'Song', 'Stop', 'Sure', 'Swim', 'TALK', 'TEXT', 'THAT', 'THEY', 'TIME', 'TYPR', 'Take', 'Talk', 'Teck', 'Tell', 'That', 'Then', 'They', 'This', 'Tide', 'Tiff', 'Time', 'Tina', 'Tisk', 'Troy', 'Turn', 'Type', 'Uhhh', 'Ummm', 'VBox', 'VVil', 'Very', 'WHEN', 'WHOA', 'WILL', 'WITH', 'Well', 'Werd', 'Were', 'West', 'What', 'When', 'Will', 'Wind', 'Wyte', 'YALL', 'YOUR', 'Yeah', 'Yoko', 'York', 'Your', 'able', 'abou', 'acid', 'adds', 'addy', 'ages', 'ahah', 'ahem', 'ahhh', 'aime', 'aint', 'akon', 'allo', 'ally', 'alot', 'also', 'amen', 'anal', 'anti', 'area', 'argh', 'arms', 'army', 'asks', 'asss', 'aunt', 'away', 'awww', 'babe', 'babi', 'baby', 'back', 'bacl', 'ball', 'band', 'bare', 'barn', 'base', 'beam', 'bear', 'beat', 'been', 'beer', 'bein', 'bell', 'bend', 'benz', 'best', 'bied', 'bike', 'bird', 'bite', 'blah', 'blew', 'bloe', 'blow', 'blue', 'body', 'boed', 'bois', 'bomb', 'bone', 'bong', 'book', 'boom', 'boot', 'born', 'boss', 'both', 'bout', 'bowl', 'boys', 'brad', 'brat', 'bred', 'brwn', 'buff', 'bugs', 'bull', 'burp', 'bust', 'busy', 'butt', 'byes', 'caan', 'caca', 'cali', 'call', 'calm', 'came', 'cams', 'cant', 'caps', 'card', 'care', 'cars', 'case', 'cash', 'cast', 'cell', 'cepn', 'chat', 'chik', 'chip', 'chit', 'choc', 'ciao', 'city', 'clap', 'clay', 'club', 'clue', 'cmon', 'coat', 'cock', 'coem', 'cold', 'come', 'comp', 'cook', 'cool', 'cops', 'corn', 'cost', 'crap', 'crib', 'crop', 'cums', 'cure', 'cuss', 'cute', 'cyas', 'daft', 'damn', 'dang', 'dark', 'date', 'dawg', 'days', 'dead', 'deaf', 'deal', 'dear', 'deep', 'deop', 'dick', 'died', 'dies', 'dint', 'dirt', 'disc', 'dman', 'docs', 'does', 'dogs', 'doin', 'dojn', 'doll', 'done', 'dont', 'door', 'dork', 'dotn', 'down', 'draw', 'drew', 'drop', 'drug', 'dude', 'duet', 'dumb', 'dump', 'dust', 'dyed', 'each', 'ears', 'east', 'easy', 'eats', 'ebay', 'eeek', 'eeww', 'elle', 'ello', 'else', 'enuf', 'eric', 'este', 'evah', 'even', 'ever', 'evil', 'ewww', 'exit', 'eyes', 'face', 'fair', 'fake', 'fall', 'fart', 'fast', 'fawk', 'fear', 'feat', 'febe', 'feel', 'feet', 'felt', 'find', 'fine', 'fire', 'firs', 'fish', 'fits', 'five', 'flaw', 'flow', 'fock', 'food', 'fool', 'foot', 'form', 'four', 'free', 'from', 'frst', 'fuck', 'full', 'gags', 'gals', 'game', 'gawd', 'gays', 'gear', 'gees', 'geez', 'gets', 'ghet', 'gift', 'gimp', 'girl', 'giva', 'give', 'givs', 'glad', 'goes', 'goin', 'gold', 'golf', 'gone', 'good', 'goof', 'gooo', 'gosh', 'gray', 'grea', 'gret', 'grew', 'grin', 'grrl', 'grrr', 'guns', 'guts', 'guys', 'guyz', 'haaa', 'haha', 'hail', 'hair', 'half', 'hall', 'halo', 'hand', 'hang', 'hank', 'hard', 'hate', 'have', 'hawT', 'hawt', 'haze', 'hazy', 'head', 'heal', 'hear', 'heat', 'heck', 'heee', 'hehe', 'hell', 'help', 'herE', 'herd', 'here', 'heya', 'heyy', 'hgey', 'hick', 'hide', 'high', 'hiii', 'hill', 'hint', 'hiom', 'hits', 'hiya', 'hmmm', 'hmph', 'hogs', 'hola', 'hold', 'holy', 'home', 'hong', 'hook', 'hooo', 'hope', 'hots', 'hott', 'hour', 'howl', 'hows', 'howz', 'http', 'huge', 'hugs', 'humm', 'hump', 'hurr', 'hurt', 'icky', 'idea', 'idnt', 'imma', 'inch', 'into', 'isnt', 'itch', 'jack', 'jail', 'jeep', 'jeff', 'jerk', 'john', 'joke', 'jude', 'jump', 'junk', 'jush', 'just', 'keep', 'kent', 'kept', 'kewl', 'keys', 'kick', 'kids', 'kill', 'kina', 'kind', 'king', 'kiss', 'kmph', 'knee', 'knew', 'know', 'kold', 'kong', 'kool', 'lady', 'ladz', 'laid', 'lake', 'lala', 'lame', 'land', 'lapd', 'last', 'late', 'lawl', 'lazy', 'lead', 'left', 'legs', 'lets', 'lick', 'lies', 'life', 'like', 'limp', 'line', 'lisa', 'list', 'live', 'lmao', 'lois', 'long', 'look', 'lool', 'lord', 'lose', 'loss', 'lost', 'lots', 'loud', 'love', 'ltnc', 'ltns', 'lube', 'luck', 'lung', 'lust', 'luvs', 'lyin', 'made', 'mahn', 'main', 'make', 'male', 'mama', 'mame', 'mami', 'mang', 'many', 'mark', 'mary', 'mass', 'mauh', 'mean', 'meat', 'meds', 'meet', 'mena', 'menu', 'mess', 'mike', 'mind', 'mine', 'mins', 'miss', 'mite', 'mkay', 'mmmm', 'mode', 'mofo', 'moms', 'mono', 'moon', 'more', 'most', 'move', 'much', 'must', 'nada', 'nads', 'name', 'nana', 'nawp', 'nawt', 'near', 'neck', 'need', 'nerd', 'newp', 'next', 'nice', 'nick', 'nite', 'nods', 'none', 'nope', 'nose', 'note', 'noth', 'nude', 'nuff', 'numb', 'offa', 'ogan', 'ohhh', 'ohio', 'ohwa', 'okay', 'okey', 'once', 'ones', 'only', 'ooer', 'oooh', 'oops', 'open', 'opps', 'orgy', 'orta', 'otay', 'ouch', 'outa', 'outs', 'over', 'owww', 'page', 'paid', 'pain', 'pair', 'park', 'part', 'pasa', 'pass', 'past', 'peek', 'peel', 'perk', 'perv', 'pfft', 'phil', 'pick', 'pics', 'pies', 'piff', 'pigs', 'pimp', 'pine', 'pink', 'plan', 'play', 'plow', 'plus', 'pmsl', 'poem', 'poll', 'poof', 'pool', 'poop', 'poor', 'poot', 'pope', 'pork', 'porn', 'post', 'pour', 'pray', 'prep', 'prob', 'puff', 'puke', 'pull', 'pure', 'push', 'puts', 'pwns', 'ques', 'quit', 'quiz', 'raed', 'rain', 'rang', 'rape', 'rats', 'read', 'real', 'rent', 'rest', 'ribs', 'rich', 'ride', 'ring', 'road', 'rock', 'rofl', 'roll', 'roof', 'room', 'root', 'rose', 'rubs', 'ruff', 'rule', 'runs', 'rush', 'saME', 'safe', 'said', 'salt', 'same', 'samn', 'sand', 'sang', 'sayn', 'says', 'scar', 'scuk', 'scum', 'sean', 'seat', 'seee', 'seem', 'seen', 'self', 'sell', 'send', 'sent', 'serg', 'seth', 'sets', 'sexi', 'sexs', 'sext', 'sexy', 'shes', 'shit', 'shop', 'shot', 'show', 'shup', 'shut', 'sick', 'side', 'sigh', 'sign', 'sing', 'sink', 'sips', 'site', 'sits', 'size', 'skin', 'slam', 'slap', 'slip', 'slow', 'smax', 'snow', 'sock', 'soda', 'soft', 'some', 'song', 'soon', 'sooo', 'sore', 'sori', 'sort', 'soul', 'soup', 'span', 'spat', 'spin', 'spit', 'spot', 'ssid', 'star', 'stay', 'stop', 'such', 'suck', 'sure', 'surf', 'swim', 'syck', 'tail', 'take', 'talk', 'tall', 'tape', 'tart', 'team', 'teck', 'tell', 'temp', 'tend', 'tenn', 'tere', 'term', 'test', 'thah', 'than', 'that', 'them', 'then', 'ther', 'they', 'this', 'thje', 'thnx', 'thot', 'thru', 'tick', 'tiff', 'till', 'time', 'tips', 'tisk', 'tits', 'tjhe', 'tlak', 'tock', 'toes', 'toke', 'told', 'took', 'tooo', 'toop', 'tory', 'toss', 'town', 'trip', 'true', 'tthe', 'tune', 'turn', 'twin', 'twit', 'type', 'typo', 'tyvm', 'ugly', 'ummm', 'urls', 'used', 'uses', 'ussy', 'uyes', 'vamp', 'vega', 'vent', 'very', 'vote', 'wOOt', 'waaa', 'wack', 'waht', 'wait', 'walk', 'wall', 'wana', 'want', 'warm', 'wash', 'wats', 'ways', 'wazz', 'wean', 'wear', 'weed', 'week', 'well', 'went', 'were', 'west', 'what', 'when', 'wher', 'whew', 'whip', 'whoa', 'whoo', 'whos', 'whou', 'whud', 'whys', 'wide', 'wife', 'wild', 'will', 'wind', 'wine', 'wins', 'wire', 'wish', 'with', 'woah', 'wont', 'wood', 'woof', 'wooo', 'woot', 'word', 'wore', 'work', 'worl', 'wrap', 'wrek', 'wubs', 'wuts', 'xbox', 'xmas', 'yada', 'yall', 'yard', 'yawn', 'yeah', 'year', 'yeas', 'yeee', 'yell', 'yesh', 'yess', 'yoko', 'yoll', 'your', 'yout', 'zone']\n",
      "<FreqDist with 6066 samples and 45010 outcomes>\n",
      "<FreqDist with 1038 samples and 45010 outcomes>\n"
     ]
    },
    {
     "data": {
      "image/png": "[encoded data removed]",
      "text/plain": [
       "<Figure size 432x288 with 1 Axes>"
      ]
     },
     "metadata": {
      "needs_background": "light"
     },
     "output_type": "display_data"
    }
   ],
   "source": [
    "chat_corpus = FreqDist(text5)\n",
    "point22 = sorted(set([w for w in text5 if w.isalpha() and len(w) == 4])) \n",
    "print(point22)\n",
    "print(chat_corpus)\n",
    "for sample in [w for w in chat_corpus]:\n",
    "    if sample not in point22: \n",
    "        chat_corpus.pop(sample)\n",
    "print(chat_corpus)\n",
    "chat_corpus.plot(50) "
   ]
  },
  {
   "cell_type": "markdown",
   "metadata": {},
   "source": [
    "26. What does the following Python code do?  sum(len(w) for w in text1) Can you use it to work out the average word length of a text?"
   ]
  },
  {
   "cell_type": "code",
   "execution_count": 29,
   "metadata": {},
   "outputs": [
    {
     "name": "stdout",
     "output_type": "stream",
     "text": [
      "999044\n"
     ]
    }
   ],
   "source": [
    "print(sum(len(w) for w in text1)) #Arroja la sumatoria del largo de cada una de las palabra del texto."
   ]
  },
  {
   "cell_type": "code",
   "execution_count": 30,
   "metadata": {},
   "outputs": [
    {
     "name": "stdout",
     "output_type": "stream",
     "text": [
      "3.830411128023649\n"
     ]
    }
   ],
   "source": [
    "print(sum(len(w) for w in text1)/len(text1))"
   ]
  },
  {
   "cell_type": "markdown",
   "metadata": {},
   "source": [
    "28. Define a function percent(word, text) that calculates how often a given word occurs in a text, and expresses the result as a percentage."
   ]
  },
  {
   "cell_type": "code",
   "execution_count": 67,
   "metadata": {},
   "outputs": [
    {
     "data": {
      "text/plain": [
       "2.2683848033770273"
      ]
     },
     "execution_count": 67,
     "metadata": {},
     "output_type": "execute_result"
    }
   ],
   "source": [
    "def percent(word, text):\n",
    "    return FreqDist(text)[word]/float(len(text))*100\n",
    "percent(\"JOIN\",text5)"
   ]
  },
  {
   "cell_type": "markdown",
   "metadata": {},
   "source": [
    "## Chapter 2. Accessing Text Corpora and Lexical Resources"
   ]
  },
  {
   "cell_type": "markdown",
   "metadata": {},
   "source": [
    "2. Use the corpus module to explore austen-persuasion.txt. How many word tokens does this book have? How many word types?"
   ]
  },
  {
   "cell_type": "code",
   "execution_count": 69,
   "metadata": {},
   "outputs": [],
   "source": [
    "from nltk.corpus import gutenberg"
   ]
  },
  {
   "cell_type": "code",
   "execution_count": 70,
   "metadata": {},
   "outputs": [
    {
     "name": "stdout",
     "output_type": "stream",
     "text": [
      "Number of word tokens =  98171\n",
      "Number of word types =  6132\n"
     ]
    }
   ],
   "source": [
    "austen_persuasion = gutenberg.words('austen-persuasion.txt') \n",
    "print(\"Number of word tokens = \",len(austen_persuasion)) \n",
    "print(\"Number of word types = \",len(set(austen_persuasion)))"
   ]
  },
  {
   "cell_type": "markdown",
   "metadata": {},
   "source": [
    "4. Read in the texts of the State of the Union addresses, using the state_union corpus reader. Count occurrences of men, women, and people in each document. What has happened to the usage of these words over time?"
   ]
  },
  {
   "cell_type": "code",
   "execution_count": 86,
   "metadata": {},
   "outputs": [
    {
     "data": {
      "text/plain": [
       "<Text: Inaugural Address Corpus>"
      ]
     },
     "execution_count": 86,
     "metadata": {},
     "output_type": "execute_result"
    }
   ],
   "source": [
    "text4"
   ]
  },
  {
   "cell_type": "code",
   "execution_count": 112,
   "metadata": {},
   "outputs": [
    {
     "data": {
      "text/plain": [
       "['Fellow',\n",
       " '-',\n",
       " 'Citizens',\n",
       " 'of',\n",
       " 'the',\n",
       " 'Senate',\n",
       " 'and',\n",
       " 'of',\n",
       " 'the',\n",
       " 'House',\n",
       " 'of',\n",
       " 'Representatives',\n",
       " ':',\n",
       " 'Among',\n",
       " 'the',\n",
       " 'vicissitudes',\n",
       " 'incident',\n",
       " 'to',\n",
       " 'life',\n",
       " 'no',\n",
       " 'event',\n",
       " 'could',\n",
       " 'have',\n",
       " 'filled',\n",
       " 'me',\n",
       " 'with',\n",
       " 'greater',\n",
       " 'anxieties',\n",
       " 'than',\n",
       " 'that',\n",
       " 'of',\n",
       " 'which',\n",
       " 'the',\n",
       " 'notification',\n",
       " 'was',\n",
       " 'transmitted',\n",
       " 'by',\n",
       " 'your',\n",
       " 'order',\n",
       " ',',\n",
       " 'and',\n",
       " 'received',\n",
       " 'on',\n",
       " 'the',\n",
       " '14th',\n",
       " 'day',\n",
       " 'of',\n",
       " 'the',\n",
       " 'present',\n",
       " 'month',\n",
       " '.',\n",
       " 'On',\n",
       " 'the',\n",
       " 'one',\n",
       " 'hand',\n",
       " ',',\n",
       " 'I',\n",
       " 'was',\n",
       " 'summoned',\n",
       " 'by',\n",
       " 'my',\n",
       " 'Country',\n",
       " ',',\n",
       " 'whose',\n",
       " 'voice',\n",
       " 'I',\n",
       " 'can',\n",
       " 'never',\n",
       " 'hear',\n",
       " 'but',\n",
       " 'with',\n",
       " 'veneration',\n",
       " 'and',\n",
       " 'love',\n",
       " ',',\n",
       " 'from',\n",
       " 'a',\n",
       " 'retreat',\n",
       " 'which',\n",
       " 'I',\n",
       " 'had',\n",
       " 'chosen',\n",
       " 'with',\n",
       " 'the',\n",
       " 'fondest',\n",
       " 'predilection',\n",
       " ',',\n",
       " 'and',\n",
       " ',',\n",
       " 'in',\n",
       " 'my',\n",
       " 'flattering',\n",
       " 'hopes',\n",
       " ',',\n",
       " 'with',\n",
       " 'an',\n",
       " 'immutable',\n",
       " 'decision',\n",
       " ',',\n",
       " 'as',\n",
       " 'the',\n",
       " 'asylum',\n",
       " 'of',\n",
       " 'my',\n",
       " 'declining',\n",
       " 'years',\n",
       " '--',\n",
       " 'a',\n",
       " 'retreat',\n",
       " 'which',\n",
       " 'was',\n",
       " 'rendered',\n",
       " 'every',\n",
       " 'day',\n",
       " 'more',\n",
       " 'necessary',\n",
       " 'as',\n",
       " 'well',\n",
       " 'as',\n",
       " 'more',\n",
       " 'dear',\n",
       " 'to',\n",
       " 'me',\n",
       " 'by',\n",
       " 'the',\n",
       " 'addition',\n",
       " 'of',\n",
       " 'habit',\n",
       " 'to',\n",
       " 'inclination',\n",
       " ',',\n",
       " 'and',\n",
       " 'of',\n",
       " 'frequent',\n",
       " 'interruptions',\n",
       " 'in',\n",
       " 'my',\n",
       " 'health',\n",
       " 'to',\n",
       " 'the',\n",
       " 'gradual',\n",
       " 'waste',\n",
       " 'committed',\n",
       " 'on',\n",
       " 'it',\n",
       " 'by',\n",
       " 'time',\n",
       " '.',\n",
       " 'On',\n",
       " 'the',\n",
       " 'other',\n",
       " 'hand',\n",
       " ',',\n",
       " 'the',\n",
       " 'magnitude',\n",
       " 'and',\n",
       " 'difficulty',\n",
       " 'of',\n",
       " 'the',\n",
       " 'trust',\n",
       " 'to',\n",
       " 'which',\n",
       " 'the',\n",
       " 'voice',\n",
       " 'of',\n",
       " 'my',\n",
       " 'country',\n",
       " 'called',\n",
       " 'me',\n",
       " ',',\n",
       " 'being',\n",
       " 'sufficient',\n",
       " 'to',\n",
       " 'awaken',\n",
       " 'in',\n",
       " 'the',\n",
       " 'wisest',\n",
       " 'and',\n",
       " 'most',\n",
       " 'experienced',\n",
       " 'of',\n",
       " 'her',\n",
       " 'citizens',\n",
       " 'a',\n",
       " 'distrustful',\n",
       " 'scrutiny',\n",
       " 'into',\n",
       " 'his',\n",
       " 'qualifications',\n",
       " ',',\n",
       " 'could',\n",
       " 'not',\n",
       " 'but',\n",
       " 'overwhelm',\n",
       " 'with',\n",
       " 'despondence',\n",
       " 'one',\n",
       " 'who',\n",
       " '(',\n",
       " 'inheriting',\n",
       " 'inferior',\n",
       " 'endowments',\n",
       " 'from',\n",
       " 'nature',\n",
       " 'and',\n",
       " 'unpracticed',\n",
       " 'in',\n",
       " 'the',\n",
       " 'duties',\n",
       " 'of',\n",
       " 'civil',\n",
       " 'administration',\n",
       " ')',\n",
       " 'ought',\n",
       " 'to',\n",
       " 'be',\n",
       " 'peculiarly',\n",
       " 'conscious',\n",
       " 'of',\n",
       " 'his',\n",
       " 'own',\n",
       " 'deficiencies',\n",
       " '.',\n",
       " 'In',\n",
       " 'this',\n",
       " 'conflict',\n",
       " 'of',\n",
       " 'emotions',\n",
       " 'all',\n",
       " 'I',\n",
       " 'dare',\n",
       " 'aver',\n",
       " 'is',\n",
       " 'that',\n",
       " 'it',\n",
       " 'has',\n",
       " 'been',\n",
       " 'my',\n",
       " 'faithful',\n",
       " 'study',\n",
       " 'to',\n",
       " 'collect',\n",
       " 'my',\n",
       " 'duty',\n",
       " 'from',\n",
       " 'a',\n",
       " 'just',\n",
       " 'appreciation',\n",
       " 'of',\n",
       " 'every',\n",
       " 'circumstance',\n",
       " 'by',\n",
       " 'which',\n",
       " 'it',\n",
       " 'might',\n",
       " 'be',\n",
       " 'affected',\n",
       " '.',\n",
       " 'All',\n",
       " 'I',\n",
       " 'dare',\n",
       " 'hope',\n",
       " 'is',\n",
       " 'that',\n",
       " 'if',\n",
       " ',',\n",
       " 'in',\n",
       " 'executing',\n",
       " 'this',\n",
       " 'task',\n",
       " ',',\n",
       " 'I',\n",
       " 'have',\n",
       " 'been',\n",
       " 'too',\n",
       " 'much',\n",
       " 'swayed',\n",
       " 'by',\n",
       " 'a',\n",
       " 'grateful',\n",
       " 'remembrance',\n",
       " 'of',\n",
       " 'former',\n",
       " 'instances',\n",
       " ',',\n",
       " 'or',\n",
       " 'by',\n",
       " 'an',\n",
       " 'affectionate',\n",
       " 'sensibility',\n",
       " 'to',\n",
       " 'this',\n",
       " 'transcendent',\n",
       " 'proof',\n",
       " 'of',\n",
       " 'the',\n",
       " 'confidence',\n",
       " 'of',\n",
       " 'my',\n",
       " 'fellow',\n",
       " 'citizens',\n",
       " ',',\n",
       " 'and',\n",
       " 'have',\n",
       " 'thence',\n",
       " 'too',\n",
       " 'little',\n",
       " 'consulted',\n",
       " 'my',\n",
       " 'incapacity',\n",
       " 'as',\n",
       " 'well',\n",
       " 'as',\n",
       " 'disinclination',\n",
       " 'for',\n",
       " 'the',\n",
       " 'weighty',\n",
       " 'and',\n",
       " 'untried',\n",
       " 'cares',\n",
       " 'before',\n",
       " 'me',\n",
       " ',',\n",
       " 'my',\n",
       " 'error',\n",
       " 'will',\n",
       " 'be',\n",
       " 'palliated',\n",
       " 'by',\n",
       " 'the',\n",
       " 'motives',\n",
       " 'which',\n",
       " 'mislead',\n",
       " 'me',\n",
       " ',',\n",
       " 'and',\n",
       " 'its',\n",
       " 'consequences',\n",
       " 'be',\n",
       " 'judged',\n",
       " 'by',\n",
       " 'my',\n",
       " 'country',\n",
       " 'with',\n",
       " 'some',\n",
       " 'share',\n",
       " 'of',\n",
       " 'the',\n",
       " 'partiality',\n",
       " 'in',\n",
       " 'which',\n",
       " 'they',\n",
       " 'originated',\n",
       " '.',\n",
       " 'Such',\n",
       " 'being',\n",
       " 'the',\n",
       " 'impressions',\n",
       " 'under',\n",
       " 'which',\n",
       " 'I',\n",
       " 'have',\n",
       " ',',\n",
       " 'in',\n",
       " 'obedience',\n",
       " 'to',\n",
       " 'the',\n",
       " 'public',\n",
       " 'summons',\n",
       " ',',\n",
       " 'repaired',\n",
       " 'to',\n",
       " 'the',\n",
       " 'present',\n",
       " 'station',\n",
       " ',',\n",
       " 'it',\n",
       " 'would',\n",
       " 'be',\n",
       " 'peculiarly',\n",
       " 'improper',\n",
       " 'to',\n",
       " 'omit',\n",
       " 'in',\n",
       " 'this',\n",
       " 'first',\n",
       " 'official',\n",
       " 'act',\n",
       " 'my',\n",
       " 'fervent',\n",
       " 'supplications',\n",
       " 'to',\n",
       " 'that',\n",
       " 'Almighty',\n",
       " 'Being',\n",
       " 'who',\n",
       " 'rules',\n",
       " 'over',\n",
       " 'the',\n",
       " 'universe',\n",
       " ',',\n",
       " 'who',\n",
       " 'presides',\n",
       " 'in',\n",
       " 'the',\n",
       " 'councils',\n",
       " 'of',\n",
       " 'nations',\n",
       " ',',\n",
       " 'and',\n",
       " 'whose',\n",
       " 'providential',\n",
       " 'aids',\n",
       " 'can',\n",
       " 'supply',\n",
       " 'every',\n",
       " 'human',\n",
       " 'defect',\n",
       " ',',\n",
       " 'that',\n",
       " 'His',\n",
       " 'benediction',\n",
       " 'may',\n",
       " 'consecrate',\n",
       " 'to',\n",
       " 'the',\n",
       " 'liberties',\n",
       " 'and',\n",
       " 'happiness',\n",
       " 'of',\n",
       " 'the',\n",
       " 'people',\n",
       " 'of',\n",
       " 'the',\n",
       " 'United',\n",
       " 'States',\n",
       " 'a',\n",
       " 'Government',\n",
       " 'instituted',\n",
       " 'by',\n",
       " 'themselves',\n",
       " 'for',\n",
       " 'these',\n",
       " 'essential',\n",
       " 'purposes',\n",
       " ',',\n",
       " 'and',\n",
       " 'may',\n",
       " 'enable',\n",
       " 'every',\n",
       " 'instrument',\n",
       " 'employed',\n",
       " 'in',\n",
       " 'its',\n",
       " 'administration',\n",
       " 'to',\n",
       " 'execute',\n",
       " 'with',\n",
       " 'success',\n",
       " 'the',\n",
       " 'functions',\n",
       " 'allotted',\n",
       " 'to',\n",
       " 'his',\n",
       " 'charge',\n",
       " '.',\n",
       " 'In',\n",
       " 'tendering',\n",
       " 'this',\n",
       " 'homage',\n",
       " 'to',\n",
       " 'the',\n",
       " 'Great',\n",
       " 'Author',\n",
       " 'of',\n",
       " 'every',\n",
       " 'public',\n",
       " 'and',\n",
       " 'private',\n",
       " 'good',\n",
       " ',',\n",
       " 'I',\n",
       " 'assure',\n",
       " 'myself',\n",
       " 'that',\n",
       " 'it',\n",
       " 'expresses',\n",
       " 'your',\n",
       " 'sentiments',\n",
       " 'not',\n",
       " 'less',\n",
       " 'than',\n",
       " 'my',\n",
       " 'own',\n",
       " ',',\n",
       " 'nor',\n",
       " 'those',\n",
       " 'of',\n",
       " 'my',\n",
       " 'fellow',\n",
       " 'citizens',\n",
       " 'at',\n",
       " 'large',\n",
       " 'less',\n",
       " 'than',\n",
       " 'either',\n",
       " '.',\n",
       " 'No',\n",
       " 'people',\n",
       " 'can',\n",
       " 'be',\n",
       " 'bound',\n",
       " 'to',\n",
       " 'acknowledge',\n",
       " 'and',\n",
       " 'adore',\n",
       " 'the',\n",
       " 'Invisible',\n",
       " 'Hand',\n",
       " 'which',\n",
       " 'conducts',\n",
       " 'the',\n",
       " 'affairs',\n",
       " 'of',\n",
       " 'men',\n",
       " 'more',\n",
       " 'than',\n",
       " 'those',\n",
       " 'of',\n",
       " 'the',\n",
       " 'United',\n",
       " 'States',\n",
       " '.',\n",
       " 'Every',\n",
       " 'step',\n",
       " 'by',\n",
       " 'which',\n",
       " 'they',\n",
       " 'have',\n",
       " 'advanced',\n",
       " 'to',\n",
       " 'the',\n",
       " 'character',\n",
       " 'of',\n",
       " 'an',\n",
       " 'independent',\n",
       " 'nation',\n",
       " 'seems',\n",
       " 'to',\n",
       " 'have',\n",
       " 'been',\n",
       " 'distinguished',\n",
       " 'by',\n",
       " 'some',\n",
       " 'token',\n",
       " 'of',\n",
       " 'providential',\n",
       " 'agency',\n",
       " ';',\n",
       " 'and',\n",
       " 'in',\n",
       " 'the',\n",
       " 'important',\n",
       " 'revolution',\n",
       " 'just',\n",
       " 'accomplished',\n",
       " 'in',\n",
       " 'the',\n",
       " 'system',\n",
       " 'of',\n",
       " 'their',\n",
       " 'united',\n",
       " 'government',\n",
       " 'the',\n",
       " 'tranquil',\n",
       " 'deliberations',\n",
       " 'and',\n",
       " 'voluntary',\n",
       " 'consent',\n",
       " 'of',\n",
       " 'so',\n",
       " 'many',\n",
       " 'distinct',\n",
       " 'communities',\n",
       " 'from',\n",
       " 'which',\n",
       " 'the',\n",
       " 'event',\n",
       " 'has',\n",
       " 'resulted',\n",
       " 'can',\n",
       " 'not',\n",
       " 'be',\n",
       " 'compared',\n",
       " 'with',\n",
       " 'the',\n",
       " 'means',\n",
       " 'by',\n",
       " 'which',\n",
       " 'most',\n",
       " 'governments',\n",
       " 'have',\n",
       " 'been',\n",
       " 'established',\n",
       " 'without',\n",
       " 'some',\n",
       " 'return',\n",
       " 'of',\n",
       " 'pious',\n",
       " 'gratitude',\n",
       " ',',\n",
       " 'along',\n",
       " 'with',\n",
       " 'an',\n",
       " 'humble',\n",
       " 'anticipation',\n",
       " 'of',\n",
       " 'the',\n",
       " 'future',\n",
       " 'blessings',\n",
       " 'which',\n",
       " 'the',\n",
       " 'past',\n",
       " 'seem',\n",
       " 'to',\n",
       " 'presage',\n",
       " '.',\n",
       " 'These',\n",
       " 'reflections',\n",
       " ',',\n",
       " 'arising',\n",
       " 'out',\n",
       " 'of',\n",
       " 'the',\n",
       " 'present',\n",
       " 'crisis',\n",
       " ',',\n",
       " 'have',\n",
       " 'forced',\n",
       " 'themselves',\n",
       " 'too',\n",
       " 'strongly',\n",
       " 'on',\n",
       " 'my',\n",
       " 'mind',\n",
       " 'to',\n",
       " 'be',\n",
       " 'suppressed',\n",
       " '.',\n",
       " 'You',\n",
       " 'will',\n",
       " 'join',\n",
       " 'with',\n",
       " 'me',\n",
       " ',',\n",
       " 'I',\n",
       " 'trust',\n",
       " ',',\n",
       " 'in',\n",
       " 'thinking',\n",
       " 'that',\n",
       " 'there',\n",
       " 'are',\n",
       " 'none',\n",
       " 'under',\n",
       " 'the',\n",
       " 'influence',\n",
       " 'of',\n",
       " 'which',\n",
       " 'the',\n",
       " 'proceedings',\n",
       " 'of',\n",
       " 'a',\n",
       " 'new',\n",
       " 'and',\n",
       " 'free',\n",
       " 'government',\n",
       " 'can',\n",
       " 'more',\n",
       " 'auspiciously',\n",
       " 'commence',\n",
       " '.',\n",
       " 'By',\n",
       " 'the',\n",
       " 'article',\n",
       " 'establishing',\n",
       " 'the',\n",
       " 'executive',\n",
       " 'department',\n",
       " 'it',\n",
       " 'is',\n",
       " 'made',\n",
       " 'the',\n",
       " 'duty',\n",
       " 'of',\n",
       " 'the',\n",
       " 'President',\n",
       " '\"',\n",
       " 'to',\n",
       " 'recommend',\n",
       " 'to',\n",
       " 'your',\n",
       " 'consideration',\n",
       " 'such',\n",
       " 'measures',\n",
       " 'as',\n",
       " 'he',\n",
       " 'shall',\n",
       " 'judge',\n",
       " 'necessary',\n",
       " 'and',\n",
       " 'expedient',\n",
       " '.\"',\n",
       " 'The',\n",
       " 'circumstances',\n",
       " 'under',\n",
       " 'which',\n",
       " 'I',\n",
       " 'now',\n",
       " 'meet',\n",
       " 'you',\n",
       " 'will',\n",
       " 'acquit',\n",
       " 'me',\n",
       " 'from',\n",
       " 'entering',\n",
       " 'into',\n",
       " 'that',\n",
       " 'subject',\n",
       " 'further',\n",
       " 'than',\n",
       " 'to',\n",
       " 'refer',\n",
       " 'to',\n",
       " 'the',\n",
       " 'great',\n",
       " 'constitutional',\n",
       " 'charter',\n",
       " 'under',\n",
       " 'which',\n",
       " 'you',\n",
       " 'are',\n",
       " 'assembled',\n",
       " ',',\n",
       " 'and',\n",
       " 'which',\n",
       " ',',\n",
       " 'in',\n",
       " 'defining',\n",
       " 'your',\n",
       " 'powers',\n",
       " ',',\n",
       " 'designates',\n",
       " 'the',\n",
       " 'objects',\n",
       " 'to',\n",
       " 'which',\n",
       " 'your',\n",
       " 'attention',\n",
       " 'is',\n",
       " 'to',\n",
       " 'be',\n",
       " 'given',\n",
       " '.',\n",
       " 'It',\n",
       " 'will',\n",
       " 'be',\n",
       " 'more',\n",
       " 'consistent',\n",
       " 'with',\n",
       " 'those',\n",
       " 'circumstances',\n",
       " ',',\n",
       " 'and',\n",
       " 'far',\n",
       " 'more',\n",
       " 'congenial',\n",
       " 'with',\n",
       " 'the',\n",
       " 'feelings',\n",
       " 'which',\n",
       " 'actuate',\n",
       " 'me',\n",
       " ',',\n",
       " 'to',\n",
       " 'substitute',\n",
       " ',',\n",
       " 'in',\n",
       " 'place',\n",
       " 'of',\n",
       " 'a',\n",
       " 'recommendation',\n",
       " 'of',\n",
       " 'particular',\n",
       " 'measures',\n",
       " ',',\n",
       " 'the',\n",
       " 'tribute',\n",
       " 'that',\n",
       " 'is',\n",
       " 'due',\n",
       " 'to',\n",
       " 'the',\n",
       " 'talents',\n",
       " ',',\n",
       " 'the',\n",
       " 'rectitude',\n",
       " ',',\n",
       " 'and',\n",
       " 'the',\n",
       " 'patriotism',\n",
       " 'which',\n",
       " 'adorn',\n",
       " 'the',\n",
       " 'characters',\n",
       " 'selected',\n",
       " 'to',\n",
       " 'devise',\n",
       " 'and',\n",
       " 'adopt',\n",
       " 'them',\n",
       " '.',\n",
       " 'In',\n",
       " 'these',\n",
       " 'honorable',\n",
       " 'qualifications',\n",
       " 'I',\n",
       " 'behold',\n",
       " 'the',\n",
       " 'surest',\n",
       " 'pledges',\n",
       " 'that',\n",
       " 'as',\n",
       " 'on',\n",
       " 'one',\n",
       " 'side',\n",
       " 'no',\n",
       " 'local',\n",
       " 'prejudices',\n",
       " 'or',\n",
       " 'attachments',\n",
       " ',',\n",
       " 'no',\n",
       " 'separate',\n",
       " 'views',\n",
       " 'nor',\n",
       " 'party',\n",
       " 'animosities',\n",
       " ',',\n",
       " 'will',\n",
       " 'misdirect',\n",
       " 'the',\n",
       " 'comprehensive',\n",
       " 'and',\n",
       " 'equal',\n",
       " 'eye',\n",
       " 'which',\n",
       " 'ought',\n",
       " 'to',\n",
       " 'watch',\n",
       " 'over',\n",
       " 'this',\n",
       " 'great',\n",
       " 'assemblage',\n",
       " 'of',\n",
       " 'communities',\n",
       " 'and',\n",
       " 'interests',\n",
       " ',',\n",
       " 'so',\n",
       " ',',\n",
       " 'on',\n",
       " 'another',\n",
       " ',',\n",
       " 'that',\n",
       " 'the',\n",
       " 'foundation',\n",
       " 'of',\n",
       " 'our',\n",
       " 'national',\n",
       " 'policy',\n",
       " 'will',\n",
       " 'be',\n",
       " 'laid',\n",
       " 'in',\n",
       " 'the',\n",
       " 'pure',\n",
       " 'and',\n",
       " 'immutable',\n",
       " 'principles',\n",
       " 'of',\n",
       " 'private',\n",
       " 'morality',\n",
       " ',',\n",
       " 'and',\n",
       " 'the',\n",
       " 'preeminence',\n",
       " 'of',\n",
       " 'free',\n",
       " 'government',\n",
       " 'be',\n",
       " 'exemplified',\n",
       " 'by',\n",
       " 'all',\n",
       " 'the',\n",
       " 'attributes',\n",
       " 'which',\n",
       " 'can',\n",
       " 'win',\n",
       " 'the',\n",
       " 'affections',\n",
       " 'of',\n",
       " 'its',\n",
       " 'citizens',\n",
       " 'and',\n",
       " 'command',\n",
       " 'the',\n",
       " 'respect',\n",
       " 'of',\n",
       " 'the',\n",
       " 'world',\n",
       " '.',\n",
       " 'I',\n",
       " 'dwell',\n",
       " 'on',\n",
       " 'this',\n",
       " 'prospect',\n",
       " 'with',\n",
       " 'every',\n",
       " 'satisfaction',\n",
       " 'which',\n",
       " 'an',\n",
       " 'ardent',\n",
       " 'love',\n",
       " 'for',\n",
       " 'my',\n",
       " 'country',\n",
       " 'can',\n",
       " 'inspire',\n",
       " ',',\n",
       " 'since',\n",
       " 'there',\n",
       " 'is',\n",
       " 'no',\n",
       " 'truth',\n",
       " 'more',\n",
       " 'thoroughly',\n",
       " 'established',\n",
       " 'than',\n",
       " 'that',\n",
       " 'there',\n",
       " 'exists',\n",
       " 'in',\n",
       " 'the',\n",
       " 'economy',\n",
       " 'and',\n",
       " 'course',\n",
       " 'of',\n",
       " 'nature',\n",
       " 'an',\n",
       " 'indissoluble',\n",
       " 'union',\n",
       " 'between',\n",
       " 'virtue',\n",
       " 'and',\n",
       " 'happiness',\n",
       " ';',\n",
       " 'between',\n",
       " 'duty',\n",
       " 'and',\n",
       " 'advantage',\n",
       " ';',\n",
       " 'between',\n",
       " 'the',\n",
       " 'genuine',\n",
       " 'maxims',\n",
       " 'of',\n",
       " 'an',\n",
       " 'honest',\n",
       " 'and',\n",
       " 'magnanimous',\n",
       " 'policy',\n",
       " 'and',\n",
       " 'the',\n",
       " 'solid',\n",
       " 'rewards',\n",
       " 'of',\n",
       " 'public',\n",
       " 'prosperity',\n",
       " 'and',\n",
       " 'felicity',\n",
       " ';',\n",
       " 'since',\n",
       " 'we',\n",
       " 'ought',\n",
       " 'to',\n",
       " 'be',\n",
       " 'no',\n",
       " 'less',\n",
       " 'persuaded',\n",
       " ...]"
      ]
     },
     "execution_count": 112,
     "metadata": {},
     "output_type": "execute_result"
    }
   ],
   "source": [
    "list (text4)"
   ]
  },
  {
   "cell_type": "code",
   "execution_count": 117,
   "metadata": {},
   "outputs": [
    {
     "data": {
      "text/plain": [
       "9754"
      ]
     },
     "execution_count": 117,
     "metadata": {},
     "output_type": "execute_result"
    }
   ],
   "source": [
    "len(set(text4))"
   ]
  },
  {
   "cell_type": "code",
   "execution_count": 119,
   "metadata": {},
   "outputs": [
    {
     "data": {
      "image/png": "[encoded data removed]",
      "text/plain": [
       "<Figure size 1296x576 with 1 Axes>"
      ]
     },
     "metadata": {
      "needs_background": "light"
     },
     "output_type": "display_data"
    }
   ],
   "source": [
    "text4.dispersion_plot([\"men\", \"woman\", \"people\"]);"
   ]
  },
  {
   "cell_type": "code",
   "execution_count": 124,
   "metadata": {},
   "outputs": [
    {
     "data": {
      "text/plain": [
       "FreqDist({'the': 9281, 'of': 6970, ',': 6840, 'and': 4991, '.': 4676, 'to': 4311, 'in': 2527, 'a': 2134, 'our': 1905, 'that': 1688, ...})"
      ]
     },
     "execution_count": 124,
     "metadata": {},
     "output_type": "execute_result"
    }
   ],
   "source": [
    "fdist1 = FreqDist(text4)\n",
    "fdist1"
   ]
  },
  {
   "cell_type": "code",
   "execution_count": 126,
   "metadata": {},
   "outputs": [
    {
     "data": {
      "text/plain": [
       "139"
      ]
     },
     "execution_count": 126,
     "metadata": {},
     "output_type": "execute_result"
    }
   ],
   "source": [
    "fdist1['men']"
   ]
  },
  {
   "cell_type": "code",
   "execution_count": 127,
   "metadata": {},
   "outputs": [
    {
     "data": {
      "text/plain": [
       "3"
      ]
     },
     "execution_count": 127,
     "metadata": {},
     "output_type": "execute_result"
    }
   ],
   "source": [
    "fdist1['woman']"
   ]
  },
  {
   "cell_type": "code",
   "execution_count": 128,
   "metadata": {},
   "outputs": [
    {
     "data": {
      "text/plain": [
       "559"
      ]
     },
     "execution_count": 128,
     "metadata": {},
     "output_type": "execute_result"
    }
   ],
   "source": [
    "fdist1['people']"
   ]
  },
  {
   "cell_type": "markdown",
   "metadata": {},
   "source": [
    "11. Investigate the table of modal distributions and look for other patterns. Try to explain them in terms of your own impressionistic understanding of the different genres. Can you find other closed classes of words that exhibit significant differences across different genres?"
   ]
  },
  {
   "cell_type": "code",
   "execution_count": 133,
   "metadata": {},
   "outputs": [
    {
     "name": "stdout",
     "output_type": "stream",
     "text": [
      "              I  you   he  she   it   we they \n",
      "      news  179   55  451   42  363   77  205 \n",
      "  religion  155  100  137   10  264  176  115 \n",
      "   hobbies  154  383  155   21  476  100  177 \n",
      "   romance  951  456  702  496  573   78  168 \n",
      "     humor  239  131  146   58  162   32   70 \n",
      " editorial  201   83  268   41  386  167  148 \n",
      "government   97   74  120    0  218  112   92 \n"
     ]
    }
   ],
   "source": [
    "from nltk.corpus import brown \n",
    "brown.categories()\n",
    "pronouns = ['I', 'you', 'he', 'she', 'it', 'we', 'they'] \n",
    "cfd = nltk.ConditionalFreqDist(\n",
    "    (genre, word)\n",
    "    for genre in brown.categories()\n",
    "    for word in brown.words(categories=genre))\n",
    "genres = ['news', 'religion', 'hobbies', 'romance', 'humor', 'editorial', 'government']\n",
    "cfd.tabulate(conditions=genres, samples=pronouns)"
   ]
  },
  {
   "cell_type": "code",
   "execution_count": 134,
   "metadata": {},
   "outputs": [
    {
     "name": "stdout",
     "output_type": "stream",
     "text": [
      "            what  when   who   why where \n",
      "      news    76   128   268     9    58 \n",
      "  religion    64    53   100    14    20 \n",
      "   hobbies    78   119   103    10    72 \n",
      "   romance   121   126    89    34    54 \n",
      "     humor    36    52    48     9    15 \n",
      " editorial    84   103   172    10    40 \n",
      "government    43    56    74     6    46 \n"
     ]
    }
   ],
   "source": [
    "wh = ['what', 'when', 'who', 'why', 'where'] \n",
    "cfd.tabulate(conditions=genres, samples=wh)"
   ]
  },
  {
   "cell_type": "markdown",
   "metadata": {},
   "source": [
    "---"
   ]
  }
 ],
 "metadata": {
  "anaconda-cloud": {},
  "kernelspec": {
   "display_name": "Python 3",
   "language": "python",
   "name": "python3"
  },
  "language_info": {
   "codemirror_mode": {
    "name": "ipython",
    "version": 3
   },
   "file_extension": ".py",
   "mimetype": "text/x-python",
   "name": "python",
   "nbconvert_exporter": "python",
   "pygments_lexer": "ipython3",
   "version": "3.7.1"
  }
 },
 "nbformat": 4,
 "nbformat_minor": 1
}
